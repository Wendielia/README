{
  "metadata": {
    "kernelspec": {
      "name": "python",
      "display_name": "Python (Pyodide)",
      "language": "python"
    },
    "language_info": {
      "codemirror_mode": {
        "name": "python",
        "version": 3
      },
      "file_extension": ".py",
      "mimetype": "text/x-python",
      "name": "python",
      "nbconvert_exporter": "python",
      "pygments_lexer": "ipython3",
      "version": "3.8"
    }
  },
  "nbformat_minor": 5,
  "nbformat": 4,
  "cells": [
    {
      "id": "44120ba5-1282-4798-b44a-4c7ed0b52d36",
      "cell_type": "markdown",
      "source": "# Data Science Tools and Ecosystem",
      "metadata": {}
    },
    {
      "id": "84f6f92b-3a8b-4be0-bc12-d3975ef62519",
      "cell_type": "markdown",
      "source": "In this notebook, Data Science Tools and Ecosystem are summarized.",
      "metadata": {}
    },
    {
      "id": "29c114dc-e4d0-4c43-8f12-198b7d778346",
      "cell_type": "markdown",
      "source": "**Objectives:**\n- List popular languages for Data Science\n- Discuss key data science libraries\n- Introduce basic programming in Python\n- Tools and skills of the data scientis\n",
      "metadata": {}
    },
    {
      "id": "5ea67b42-8bf6-44e1-9caf-dce2337f51a8",
      "cell_type": "markdown",
      "source": "Some of the popular languages that Data Scientists use are:\n1. Python\n2. R\n3. SQL",
      "metadata": {}
    },
    {
      "id": "0b1d03dd-6613-4af8-b398-1d120902731f",
      "cell_type": "markdown",
      "source": "Some of the commonly used libraries by Data Scientists include:\n1. Pandas\n2. NumPy\n3. Scikit-learn\n",
      "metadata": {}
    },
    {
      "id": "4ec88791-4e09-4573-9ba6-7e95c61e862c",
      "cell_type": "markdown",
      "source": "| Data Science Tools |\n|--------------------|\n| Jupyter            |\n| RStudio            |\n| Apache Zeppelin    |\n",
      "metadata": {}
    },
    {
      "id": "553070b8-9013-42c5-8b1c-b8399b470803",
      "cell_type": "markdown",
      "source": "### Below are a few examples of evaluating arithmetic expressions in Python.",
      "metadata": {}
    },
    {
      "id": "995d4356-a76d-4f98-bbaa-2d6fb2d3f3d3",
      "cell_type": "code",
      "source": "# This a simple arithmetic expression to multiply then add integers\n\n(3 * 4) + 5\n",
      "metadata": {
        "trusted": true
      },
      "outputs": [
        {
          "execution_count": 9,
          "output_type": "execute_result",
          "data": {
            "text/plain": "17"
          },
          "metadata": {}
        }
      ],
      "execution_count": 9
    },
    {
      "id": "ad5e21a0-808f-4c17-82dd-573c3044f6f3",
      "cell_type": "code",
      "source": "# This will convert 200 minutes to hours by diving by 60\n\n200/60",
      "metadata": {
        "trusted": true
      },
      "outputs": [
        {
          "execution_count": 10,
          "output_type": "execute_result",
          "data": {
            "text/plain": "3.3333333333333335"
          },
          "metadata": {}
        }
      ],
      "execution_count": 10
    },
    {
      "id": "7c117242-84cd-41f5-93f9-39c59d9e97a4",
      "cell_type": "markdown",
      "source": "## Author\n\nElia\n",
      "metadata": {}
    }
  ]
}